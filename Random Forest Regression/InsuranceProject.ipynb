{
    "cells": [
        {
            "cell_type": "markdown",
            "source": [
                "# Import Libraries"
            ],
            "metadata": {}
        },
        {
            "cell_type": "code",
            "execution_count": 1,
            "source": [
                "import numpy as np\r\n",
                "import pandas as pd\r\n",
                "import matplotlib.pyplot as plt\r\n",
                "\r\n",
                "from sklearn.preprocessing import StandardScaler\r\n",
                "from sklearn.ensemble import RandomForestRegressor"
            ],
            "outputs": [],
            "metadata": {}
        },
        {
            "cell_type": "markdown",
            "source": [
                "# Read Training and Testing Data"
            ],
            "metadata": {}
        },
        {
            "cell_type": "code",
            "execution_count": 2,
            "source": [
                "train = pd.read_csv(\"train.csv\")\r\n",
                "test = pd.read_csv(\"test.csv\")"
            ],
            "outputs": [],
            "metadata": {}
        },
        {
            "cell_type": "code",
            "execution_count": 3,
            "source": [
                "train.columns"
            ],
            "outputs": [
                {
                    "output_type": "execute_result",
                    "data": {
                        "text/plain": [
                            "Index(['id', 'perc_premium_paid_by_cash_credit', 'age_in_days', 'Income',\n",
                            "       'Count_3-6_months_late', 'Count_6-12_months_late',\n",
                            "       'Count_more_than_12_months_late', 'application_underwriting_score',\n",
                            "       'no_of_premiums_paid', 'sourcing_channel', 'residence_area_type',\n",
                            "       'target'],\n",
                            "      dtype='object')"
                        ]
                    },
                    "metadata": {},
                    "execution_count": 3
                }
            ],
            "metadata": {}
        },
        {
            "cell_type": "code",
            "execution_count": 4,
            "source": [
                "train.shape"
            ],
            "outputs": [
                {
                    "output_type": "execute_result",
                    "data": {
                        "text/plain": [
                            "(79853, 12)"
                        ]
                    },
                    "metadata": {},
                    "execution_count": 4
                }
            ],
            "metadata": {}
        },
        {
            "cell_type": "markdown",
            "source": [
                "# Create Dummy Variables"
            ],
            "metadata": {}
        },
        {
            "cell_type": "code",
            "execution_count": 5,
            "source": [
                "train = pd.get_dummies(train)\r\n",
                "test = pd.get_dummies(test)"
            ],
            "outputs": [],
            "metadata": {}
        },
        {
            "cell_type": "markdown",
            "source": [
                "# Fill Missing Data"
            ],
            "metadata": {}
        },
        {
            "cell_type": "code",
            "execution_count": 6,
            "source": [
                "train.fillna(0, inplace = True)\r\n",
                "test.fillna(0, inplace = True)"
            ],
            "outputs": [],
            "metadata": {}
        },
        {
            "cell_type": "markdown",
            "source": [
                "# Initialize a Scaler Object"
            ],
            "metadata": {}
        },
        {
            "cell_type": "code",
            "execution_count": 7,
            "source": [
                "scaler = StandardScaler()"
            ],
            "outputs": [],
            "metadata": {}
        },
        {
            "cell_type": "code",
            "execution_count": 8,
            "source": [
                "trainData = train[:70000]"
            ],
            "outputs": [],
            "metadata": {}
        },
        {
            "cell_type": "markdown",
            "source": [
                "# Seperate Features (x) and Final Results (y) from Training Data"
            ],
            "metadata": {}
        },
        {
            "cell_type": "markdown",
            "source": [
                "## Scale Both Training and Testing Data"
            ],
            "metadata": {}
        },
        {
            "cell_type": "code",
            "execution_count": 9,
            "source": [
                "xTrain = trainData.drop(\"target\", axis = 1)\r\n",
                "yTrain = trainData[\"target\"]\r\n",
                "xTrain = scaler.fit_transform(xTrain)"
            ],
            "outputs": [],
            "metadata": {}
        },
        {
            "cell_type": "code",
            "execution_count": 10,
            "source": [
                "testData = test\r\n",
                "testData = scaler.fit_transform(testData)"
            ],
            "outputs": [],
            "metadata": {}
        },
        {
            "cell_type": "markdown",
            "source": [
                "# Initialize Object of Random Forest Regressor with Parameters"
            ],
            "metadata": {}
        },
        {
            "cell_type": "markdown",
            "source": [
                "## Parameters Here are Chose After Repeated Testing"
            ],
            "metadata": {}
        },
        {
            "cell_type": "code",
            "execution_count": 11,
            "source": [
                "regr = RandomForestRegressor(n_estimators = 250, max_depth = 6)"
            ],
            "outputs": [],
            "metadata": {}
        },
        {
            "cell_type": "markdown",
            "source": [
                "# Train the Model"
            ],
            "metadata": {}
        },
        {
            "cell_type": "code",
            "execution_count": 12,
            "source": [
                "regr.fit(xTrain, yTrain)"
            ],
            "outputs": [
                {
                    "output_type": "execute_result",
                    "data": {
                        "text/plain": [
                            "RandomForestRegressor(max_depth=6, n_estimators=250)"
                        ]
                    },
                    "metadata": {},
                    "execution_count": 12
                }
            ],
            "metadata": {}
        },
        {
            "cell_type": "markdown",
            "source": [
                "# Predict on Test Dataset"
            ],
            "metadata": {}
        },
        {
            "cell_type": "code",
            "execution_count": 13,
            "source": [
                "predict = regr.predict(testData)"
            ],
            "outputs": [],
            "metadata": {}
        },
        {
            "cell_type": "markdown",
            "source": [
                "# Save Results as CSV for Checking"
            ],
            "metadata": {}
        },
        {
            "cell_type": "code",
            "execution_count": 14,
            "source": [
                "submission = pd.DataFrame()\r\n",
                "submission['id'] = test[\"id\"]\r\n",
                "submission['target'] = predict"
            ],
            "outputs": [],
            "metadata": {}
        },
        {
            "cell_type": "code",
            "execution_count": 15,
            "source": [
                "submission.to_csv('submission.csv', header=True, index=False)"
            ],
            "outputs": [],
            "metadata": {}
        }
    ],
    "metadata": {
        "orig_nbformat": 4,
        "language_info": {
            "name": "python"
        }
    },
    "nbformat": 4,
    "nbformat_minor": 2
}